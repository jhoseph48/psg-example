{
 "cells": [
  {
   "cell_type": "code",
   "execution_count": null,
   "id": "964289b2",
   "metadata": {},
   "outputs": [],
   "source": [
    "#code1\n",
    "print(\"hola mundo desde notebook\")"
   ]
  },
  {
   "cell_type": "markdown",
   "id": "7479e72a",
   "metadata": {},
   "source": [
    "# Session04\n",
    "- mi primer notebook\n",
    "- imprimir arbol\n",
    "- crear markdown\n",
    "- subir a mi repositorio de github\n"
   ]
  },
  {
   "cell_type": "markdown",
   "id": "ccf5a55c",
   "metadata": {},
   "source": []
  }
 ],
 "metadata": {
  "kernelspec": {
   "display_name": "Python 3",
   "language": "python",
   "name": "python3"
  },
  "language_info": {
   "name": "python",
   "version": "3.13.3"
  }
 },
 "nbformat": 4,
 "nbformat_minor": 5
}
