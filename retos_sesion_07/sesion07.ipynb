{
 "cells": [
  {
   "cell_type": "markdown",
   "id": "46b5dacf",
   "metadata": {},
   "source": [
    "Método Input\n",
    "El método \"input\" nos permite ingresar contenido al programa y es procesado como una cadena"
   ]
  },
  {
   "cell_type": "code",
   "execution_count": null,
   "id": "044175ee",
   "metadata": {},
   "outputs": [],
   "source": [
    "entrada = input(\"Ingrese un valor: \")\n",
    "print (entrada)\n",
    "print (type(entrada))"
   ]
  },
  {
   "cell_type": "code",
   "execution_count": null,
   "id": "685674f4",
   "metadata": {},
   "outputs": [],
   "source": [
    "entero = int(input(\"Ingrese un valor entero: \"))\n",
    "print (entero, type(entero))\n",
    "\n",
    "flotante = float(input(\"Ingrese un valor flotante: \"))\n",
    "print (flotante, type(flotante))\n",
    "\n",
    "booleano = bool(input(\"Ingrese un valor booleano: \"))\n",
    "print (booleano, type(booleano))"
   ]
  },
  {
   "cell_type": "markdown",
   "id": "461a082c",
   "metadata": {},
   "source": [
    "Manejo de Indices\n",
    "Las cadenas son secuencias de caracteres por lo cual pueden ser representados de la siguiente manera"
   ]
  },
  {
   "cell_type": "code",
   "execution_count": null,
   "id": "6a5666a9",
   "metadata": {},
   "outputs": [],
   "source": [
    "print (\"Indexado positivo\")\n",
    "fruta = \"banana\"\n",
    "print (fruta)\n",
    "print (fruta[0])\n",
    "print (fruta[5])"
   ]
  },
  {
   "cell_type": "code",
   "execution_count": null,
   "id": "44f28b88",
   "metadata": {},
   "outputs": [],
   "source": [
    "print (\"Indexado negativo\")\n",
    "fruta = \"banana\"\n",
    "print (fruta)\n",
    "print (fruta[-1])\n",
    "print (fruta[-3])"
   ]
  },
  {
   "cell_type": "markdown",
   "id": "d212d928",
   "metadata": {},
   "source": [
    "Segmentación o Slicing\n",
    "Slicing es la técnica que permite extraer una parte de una secuencia de caracteres utilizando los indices de esta cadena\n",
    "\n",
    "El resultado es una sub cadena"
   ]
  },
  {
   "cell_type": "code",
   "execution_count": null,
   "id": "6feeda97",
   "metadata": {},
   "outputs": [],
   "source": [
    "print (\"Slicing\")\n",
    "ciudad =  \"LaPaz-Bolivia\"\n",
    "print (ciudad)\n",
    "print (\"Slicing con índices positivos\")\n",
    "print (ciudad[0:6])\n",
    "print (ciudad[0:6:2])\n",
    "print (\"Slicing con índices negativos\")\n",
    "print (ciudad[-10:-2])\n",
    "print (ciudad[-10:-2:2])"
   ]
  },
  {
   "cell_type": "markdown",
   "id": "f844c515",
   "metadata": {},
   "source": [
    "Concatenación de una cadena\n",
    "Las cadenas se pueden concatenar con el operador + generando una nueva cadena en el resultado"
   ]
  },
  {
   "cell_type": "code",
   "execution_count": null,
   "id": "858d7fc0",
   "metadata": {},
   "outputs": [],
   "source": [
    "print (\"Concatenación de cadenas\")\n",
    "cadena1 = \"Hola\"\n",
    "cadena2 = \"Mundo\"\n",
    "concatenada = cadena1 + \" \" + cadena2\n",
    "print (concatenada)"
   ]
  },
  {
   "cell_type": "markdown",
   "id": "2348e46b",
   "metadata": {},
   "source": [
    "Repetición de una cadena\n",
    "Las cadenas pueden ser repetidas utilizando el operador * y un número entero N que genera una nueva cadena repetida N veces"
   ]
  },
  {
   "cell_type": "code",
   "execution_count": null,
   "id": "a5687612",
   "metadata": {},
   "outputs": [],
   "source": [
    "print (\"Repetición de cadenas\")\n",
    "cadena = \"-#-\"\n",
    "repetida = cadena * 10\n",
    "print (repetida)"
   ]
  },
  {
   "cell_type": "markdown",
   "id": "a0aac163",
   "metadata": {},
   "source": [
    "longitud de una cadena\n",
    "Una de las funciones más importantes es la función len que nos permite obtener la longitud de una cadena específica\n",
    "\n",
    "La longitud de una cadena es del tipo entero"
   ]
  },
  {
   "cell_type": "code",
   "execution_count": null,
   "id": "ef49f9fb",
   "metadata": {},
   "outputs": [],
   "source": [
    "print (\"Longitud de una cadena\")\n",
    "cadena = \"Hola Mundo :D\"\n",
    "longitud = len(cadena)\n",
    "print (cadena)\n",
    "print (longitud, type(longitud))\n"
   ]
  },
  {
   "cell_type": "markdown",
   "id": "be8729f3",
   "metadata": {},
   "source": [
    "Métodos de Cadenas\n",
    "Las cadenas en Python tienen múltiples métodos para realizar tareas y procesarlas\n",
    "\n",
    "Permitiéndonos hacer modificaciones a las cadenas\n",
    "\n",
    "Se llama estas funciones utilizando la cadena seguido de un punto, el nombre de la función y paréntesis\n",
    "\n",
    "cadena.funcion()"
   ]
  },
  {
   "cell_type": "code",
   "execution_count": null,
   "id": "abe53dc2",
   "metadata": {},
   "outputs": [],
   "source": [
    "print (\"Función Upper\")\n",
    "cadena = \"cadena Inicial #1\"\n",
    "mayuscula  = cadena.upper()\n",
    "print (cadena)\n",
    "print (mayuscula)"
   ]
  },
  {
   "cell_type": "code",
   "execution_count": null,
   "id": "0dfbdef9",
   "metadata": {},
   "outputs": [],
   "source": [
    "print (\"Función Lower\")\n",
    "cadena = \"Cadena INICIAL #2\"\n",
    "minuscula  = cadena.lower()\n",
    "print (cadena)\n",
    "print (minuscula)"
   ]
  },
  {
   "cell_type": "code",
   "execution_count": null,
   "id": "eff70678",
   "metadata": {},
   "outputs": [],
   "source": [
    "print (\"Función Capitalize\")\n",
    "cadena = \"cadena INICIAL #3\"\n",
    "capital = cadena.capitalize()\n",
    "print (cadena)\n",
    "print (capital)"
   ]
  },
  {
   "cell_type": "code",
   "execution_count": null,
   "id": "7f47c802",
   "metadata": {},
   "outputs": [],
   "source": [
    "print (\"Función Title\")\n",
    "cadena = \"CADENA inicial #4\"\n",
    "titulo = cadena.title()\n",
    "print (cadena)\n",
    "print (titulo)"
   ]
  },
  {
   "cell_type": "code",
   "execution_count": null,
   "id": "6a09a6a6",
   "metadata": {},
   "outputs": [],
   "source": [
    "print (\"Función Swapcase\")\n",
    "cadena = \"CADena InIcIaL #5\"\n",
    "swap = cadena.swapcase()\n",
    "print (cadena)\n",
    "print (swap)"
   ]
  },
  {
   "cell_type": "code",
   "execution_count": null,
   "id": "4d968e7c",
   "metadata": {},
   "outputs": [],
   "source": [
    "print (\"Función Count\")\n",
    "cadena = \"Cantidad de veces la letra A\"\n",
    "contar = cadena.count(\"a\")\n",
    "print(cadena)\n",
    "print(contar, type(contar))"
   ]
  },
  {
   "cell_type": "code",
   "execution_count": null,
   "id": "8f65c2b9",
   "metadata": {},
   "outputs": [],
   "source": [
    "print (\"Función Find\")\n",
    "cadena = \"Encontrar las letras las\"\n",
    "buscar = cadena.find(\"las\")\n",
    "print(cadena)\n",
    "print(buscar, type(buscar))"
   ]
  },
  {
   "cell_type": "code",
   "execution_count": null,
   "id": "fb9ca4a2",
   "metadata": {},
   "outputs": [],
   "source": []
  }
 ],
 "metadata": {
  "language_info": {
   "name": "python"
  }
 },
 "nbformat": 4,
 "nbformat_minor": 5
}
