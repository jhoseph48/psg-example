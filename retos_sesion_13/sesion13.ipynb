{
 "cells": [
  {
   "cell_type": "markdown",
   "id": "9ed8fe34",
   "metadata": {},
   "source": [
    "# Ciclo FOR"
   ]
  },
  {
   "cell_type": "markdown",
   "id": "e09e66bb",
   "metadata": {},
   "source": [
    "for tiene la siguiente estructura\n",
    "\n",
    "for variable in range(inicio, fin, paso):\n",
    "    print(variable)"
   ]
  },
  {
   "cell_type": "code",
   "execution_count": null,
   "id": "e9b6de4e",
   "metadata": {},
   "outputs": [],
   "source": [
    "for i in range(5):\n",
    "    print(i)\n",
    "print(i)"
   ]
  },
  {
   "cell_type": "code",
   "execution_count": null,
   "id": "39109afc",
   "metadata": {},
   "outputs": [],
   "source": [
    "print (\"Ejemplo 1\")\n",
    "suma = 0\n",
    "for i in range(1, 11, 2): # 1, 3, 5, 7, 9\n",
    "    suma = suma + i #suma += i\n",
    "print(suma)"
   ]
  },
  {
   "cell_type": "code",
   "execution_count": null,
   "id": "1f5dac26",
   "metadata": {},
   "outputs": [],
   "source": [
    "print (\"Ejemplo 2\")\n",
    "for i in range(0, 6):\n",
    "    print(\" \"*(5-i) + \"*\"*i*2+\"*\")\n"
   ]
  },
  {
   "cell_type": "code",
   "execution_count": null,
   "id": "91a61d71",
   "metadata": {},
   "outputs": [],
   "source": [
    "print (\"Ejemplo 7\")\n",
    "frutas = {'🍅':'Tomate','🍇':'Uva','🍈':'Melón','🍉':'Sandía','🍊':'Naranja'}\n",
    "for clave in frutas:\n",
    "    print(clave, frutas[clave])"
   ]
  },
  {
   "cell_type": "code",
   "execution_count": null,
   "id": "38c01568",
   "metadata": {},
   "outputs": [],
   "source": [
    "print (\"Ejemplo 10\")\n",
    "animales = ['🐶','🐱','🐰','🐭']\n",
    "for i in range(len(animales)):\n",
    "    print(animales[i])"
   ]
  },
  {
   "cell_type": "code",
   "execution_count": null,
   "id": "a147fb97",
   "metadata": {},
   "outputs": [],
   "source": [
    "print (\"Ejemplo 11\")\n",
    "animales = ['🐶','🐱','🐰','🐭']\n",
    "for i, animal in enumerate(animales):\n",
    "    print(i, animal, animales[i])"
   ]
  },
  {
   "cell_type": "markdown",
   "id": "72625541",
   "metadata": {},
   "source": [
    "# Ciclo WHIILE"
   ]
  },
  {
   "cell_type": "markdown",
   "id": "9d81f2ef",
   "metadata": {},
   "source": [
    "La estructura de control while es la siguiente\n",
    "\n",
    "while condicion:\n",
    "    print(\"Código a ejecutar\")"
   ]
  },
  {
   "cell_type": "code",
   "execution_count": null,
   "id": "71e248cc",
   "metadata": {},
   "outputs": [],
   "source": [
    "print (\"Ejemplo 13\")\n",
    "suma = 0\n",
    "numero = int(input(\"Ingrese un número: \"))\n",
    "while numero != 0:\n",
    "    suma += numero\n",
    "    numero = int(input(\"Ingrese un número: \"))\n",
    "print(suma)"
   ]
  },
  {
   "cell_type": "code",
   "execution_count": null,
   "id": "49b97378",
   "metadata": {},
   "outputs": [],
   "source": [
    "print (\"Ejercicio 3\")\n",
    "numero = int(input(\"Ingrese un número: \"))\n",
    "while numero >= 0:\n",
    "    print(numero)\n",
    "    numero -= 1"
   ]
  },
  {
   "cell_type": "markdown",
   "id": "844d4876",
   "metadata": {},
   "source": [
    "# BREAK"
   ]
  },
  {
   "cell_type": "markdown",
   "id": "3d832ecc",
   "metadata": {},
   "source": [
    "La sentencia break es una palabra reservada que se usa para salir de un ciclo"
   ]
  },
  {
   "cell_type": "code",
   "execution_count": null,
   "id": "0b2d1de2",
   "metadata": {},
   "outputs": [],
   "source": [
    "frutas = ['🍎','🍌','🍇','🍉','🍊','🐛','🍋','🍍']\n",
    "print (\"Ejemplo 14\")\n",
    "for fruta in frutas:\n",
    "    if fruta == '🐛':\n",
    "        break\n",
    "    print(fruta)\n",
    "print (\"Fin\")"
   ]
  },
  {
   "cell_type": "code",
   "execution_count": null,
   "id": "ce2bd36a",
   "metadata": {},
   "outputs": [],
   "source": [
    "print (\"Ejemplo 16\")\n",
    "while True:\n",
    "    texto = input(\"Ingrese un texto: \")\n",
    "    if texto == 'salir':\n",
    "        break\n",
    "    print(texto.upper())\n",
    "print (\"Fin\")"
   ]
  },
  {
   "cell_type": "code",
   "execution_count": null,
   "id": "f510ef3b",
   "metadata": {},
   "outputs": [],
   "source": [
    "print (\"Ejercicio 4\")\n",
    "while True:\n",
    "    numero = int(input(\"Ingrese un número: \"))\n",
    "    if numero == 0:\n",
    "        break\n",
    "    print (\"Par\" if numero % 2 == 0 else \"Impar\")"
   ]
  }
 ],
 "metadata": {
  "language_info": {
   "name": "python"
  }
 },
 "nbformat": 4,
 "nbformat_minor": 5
}
