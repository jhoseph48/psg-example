{
 "cells": [
  {
   "cell_type": "markdown",
   "id": "4be01535",
   "metadata": {},
   "source": [
    "Tupla de enteros"
   ]
  },
  {
   "cell_type": "code",
   "execution_count": null,
   "id": "1bbf1f79",
   "metadata": {},
   "outputs": [],
   "source": [
    "\n",
    "print (\"Tupla de enteros\")\n",
    "enteros = (1,2,3,4,5,6)\n",
    "print (enteros)\n",
    "print (type(enteros))"
   ]
  },
  {
   "cell_type": "markdown",
   "id": "71749f54",
   "metadata": {},
   "source": [
    "Tupla de cadenas"
   ]
  },
  {
   "cell_type": "code",
   "execution_count": null,
   "id": "b14f0346",
   "metadata": {},
   "outputs": [],
   "source": [
    "print (\"Tupla de cadenas\")\n",
    "cadenas = (\"hola\", \"mundo\", \"desde\", \"python\")\n",
    "print (cadenas)\n",
    "print (type(cadenas))"
   ]
  },
  {
   "cell_type": "markdown",
   "id": "b3bb7d6f",
   "metadata": {},
   "source": [
    "Tupla mixta"
   ]
  },
  {
   "cell_type": "code",
   "execution_count": null,
   "id": "a433922a",
   "metadata": {},
   "outputs": [],
   "source": [
    "print (\"Tupla Mixta\") \n",
    "mixta = (1, \"hola\", True, 2.5)\n",
    "print (mixta)\n",
    "print (type(mixta))"
   ]
  },
  {
   "cell_type": "markdown",
   "id": "ff567076",
   "metadata": {},
   "source": [
    "Tupla vacía"
   ]
  },
  {
   "cell_type": "code",
   "execution_count": null,
   "id": "7b0b0d79",
   "metadata": {},
   "outputs": [],
   "source": [
    "print (\"Tupla vacia\")\n",
    "vacia = ()\n",
    "print (vacia)\n",
    "print (type(vacia))"
   ]
  },
  {
   "cell_type": "markdown",
   "id": "487b0886",
   "metadata": {},
   "source": [
    "Tupla con un solo elemento\n"
   ]
  },
  {
   "cell_type": "code",
   "execution_count": null,
   "id": "df95b2e5",
   "metadata": {},
   "outputs": [],
   "source": [
    "print (\"Tupla de un solo elemento\")\n",
    "uno = (1,)\n",
    "print (uno)\n",
    "print (type(uno))"
   ]
  },
  {
   "cell_type": "markdown",
   "id": "6ca41ebd",
   "metadata": {},
   "source": [
    "Acceso utilizando índices positivos"
   ]
  },
  {
   "cell_type": "code",
   "execution_count": null,
   "id": "d163159e",
   "metadata": {},
   "outputs": [],
   "source": [
    "print (\"Indexado positivo de una tupla\")\n",
    "tupla = (1,2.0, \"hola\", True)\n",
    "print (tupla[0], type(tupla[0]))\n",
    "print (tupla[1], type(tupla[1]))\n",
    "print (tupla[2], type(tupla[2]))\n",
    "print (tupla[3], type(tupla[3]))"
   ]
  },
  {
   "cell_type": "markdown",
   "id": "53086789",
   "metadata": {},
   "source": [
    "Acceso utilizando índices negativos"
   ]
  },
  {
   "cell_type": "code",
   "execution_count": null,
   "id": "4fb31db5",
   "metadata": {},
   "outputs": [],
   "source": [
    "print (\"Indexado negativo de una tupla\")\n",
    "tupla = (1,2.0, \"hola\", True)\n",
    "print (tupla[-1], type(tupla[-1]))\n",
    "print (tupla[-2], type(tupla[-2]))\n",
    "print (tupla[-3], type(tupla[-3]))\n",
    "print (tupla[-4], type(tupla[-4]))"
   ]
  },
  {
   "cell_type": "markdown",
   "id": "9d75af9f",
   "metadata": {},
   "source": [
    "Slicing de una tupla\n"
   ]
  },
  {
   "cell_type": "code",
   "execution_count": null,
   "id": "5751d1c3",
   "metadata": {},
   "outputs": [],
   "source": [
    "print (\"Slicing de una tupla\")\n",
    "tupla = (0,1,2,3,4,5,6,7,8,9,10)\n",
    "print (tupla)\n",
    "sub_tupla = tupla[0:5]\n",
    "print (sub_tupla)\n",
    "print (type(sub_tupla))"
   ]
  },
  {
   "cell_type": "markdown",
   "id": "60c00499",
   "metadata": {},
   "source": [
    "Slicing con paso positivo"
   ]
  },
  {
   "cell_type": "code",
   "execution_count": null,
   "id": "a38aeb8c",
   "metadata": {},
   "outputs": [],
   "source": [
    "print (\"Slicing de una tupla con saltos\")\n",
    "tupla = (0,1,2,3,4,5,6,7,8,9,10)\n",
    "print (tupla)\n",
    "sub_tupla = tupla[0:10:2]\n",
    "print (sub_tupla)\n",
    "print (type(sub_tupla))"
   ]
  },
  {
   "cell_type": "markdown",
   "id": "fe674600",
   "metadata": {},
   "source": [
    "Concatenación de tuplas"
   ]
  },
  {
   "cell_type": "code",
   "execution_count": null,
   "id": "ebf726a0",
   "metadata": {},
   "outputs": [],
   "source": [
    "print (\"Concatenación de tuplas\")\n",
    "tupla1 = (1,2,3)\n",
    "tupla2 = (4,5,6)\n",
    "concatenar = tupla1 + tupla2\n",
    "print (tupla1, tupla2)\n",
    "print (concatenar)\n",
    "print (type(concatenar))"
   ]
  },
  {
   "cell_type": "markdown",
   "id": "fbf538d1",
   "metadata": {},
   "source": [
    "Repetición de tuplas"
   ]
  },
  {
   "cell_type": "code",
   "execution_count": null,
   "id": "effa67eb",
   "metadata": {},
   "outputs": [],
   "source": [
    "print (\"Repetición de tuplas\")\n",
    "tupla = (1,2,3)\n",
    "repetir = tupla * 3\n",
    "print (tupla)\n",
    "print (repetir)\n",
    "print (type(repetir))"
   ]
  },
  {
   "cell_type": "markdown",
   "id": "8f062898",
   "metadata": {},
   "source": [
    "Asignación múltiple de valores"
   ]
  },
  {
   "cell_type": "code",
   "execution_count": null,
   "id": "9f86a3bb",
   "metadata": {},
   "outputs": [],
   "source": [
    "print (\"Asignación múltiple\")\n",
    "persona = (\"Jhon\", \"Doe\", 22, 1.75)\n",
    "nombre, apellido, edad, estatura = persona\n",
    "print (persona)\n",
    "print (nombre)\n",
    "print (apellido)\n",
    "print (edad)\n",
    "print (estatura)"
   ]
  },
  {
   "cell_type": "markdown",
   "id": "73659f08",
   "metadata": {},
   "source": [
    "index() recibe un valor y devuelve el índice de la primera aparición de ese valor\n",
    "\n",
    "Si el valor no existe en la tupla, se genera un error"
   ]
  },
  {
   "cell_type": "code",
   "execution_count": null,
   "id": "3c3908d8",
   "metadata": {},
   "outputs": [],
   "source": [
    "print (\"Método index(valor)\")\n",
    "tupla = (1,2.0, \"hola\", True)\n",
    "print (tupla.index(2.0))\n",
    "print (tupla.index(\"hola\"))"
   ]
  },
  {
   "cell_type": "markdown",
   "id": "118a96b5",
   "metadata": {},
   "source": [
    "count() recibe un valor y devuelve el número de veces que aparece en la tupla\n"
   ]
  },
  {
   "cell_type": "code",
   "execution_count": null,
   "id": "6df9253e",
   "metadata": {},
   "outputs": [],
   "source": [
    "print (\"Método count(valor)\")\n",
    "tupla = (1, 2.0, \"hola\", False, \"hola\", \"HOLA\")\n",
    "print (tupla.count(1))\n",
    "print (tupla.count(\"hola\"))\n",
    "print (tupla.count(10))"
   ]
  },
  {
   "cell_type": "markdown",
   "id": "b74b58f5",
   "metadata": {},
   "source": [
    "len() devuelve la longitud de la tupla"
   ]
  },
  {
   "cell_type": "code",
   "execution_count": null,
   "id": "ab947b37",
   "metadata": {},
   "outputs": [],
   "source": [
    "print (\"Función len()\")\n",
    "tupla = (1,2.0, \"hola\", True)\n",
    "longitud = len(tupla)\n",
    "print (tupla)\n",
    "print (longitud)\n",
    "print (\"Función len()\")\n",
    "tupla = (1,2.0, \"hola\", True)\n",
    "longitud = len(tupla)\n",
    "print (tupla)\n",
    "print (longitud)\n",
    "print (\"Función len()\")\n",
    "tupla = (1,2.0, \"hola\", True)\n",
    "longitud = len(tupla)\n",
    "print (tupla)\n",
    "print (longitud)"
   ]
  },
  {
   "cell_type": "markdown",
   "id": "0d695f75",
   "metadata": {},
   "source": [
    "max()\n"
   ]
  },
  {
   "cell_type": "code",
   "execution_count": null,
   "id": "950c7461",
   "metadata": {},
   "outputs": [],
   "source": [
    "print (\"Función max()\")\n",
    "tupla = (1,2,10,5,8,0)\n",
    "maximo = max(tupla)\n",
    "print (tupla)\n",
    "print (maximo)"
   ]
  },
  {
   "cell_type": "markdown",
   "id": "4bff6366",
   "metadata": {},
   "source": [
    "Tuplas anidadas\n",
    "Una tupla puede contener otras tuplas como elementos\n"
   ]
  },
  {
   "cell_type": "code",
   "execution_count": null,
   "id": "05d18043",
   "metadata": {},
   "outputs": [],
   "source": [
    "print (\"Tuplas anidadas\")\n",
    "tupla = (1,2,3, (4,5,6))\n",
    "print (tupla)\n",
    "print (tupla, type(tupla))\n",
    "print (tupla[3], type(tupla[3]))\n",
    "print (tupla[3][0], type(tupla[3][0]))"
   ]
  },
  {
   "cell_type": "markdown",
   "id": "f7133475",
   "metadata": {},
   "source": [
    "Anidado al detalle\n"
   ]
  },
  {
   "cell_type": "code",
   "execution_count": null,
   "id": "2e1d99ac",
   "metadata": {},
   "outputs": [],
   "source": [
    "print (\"Tuplas anidadas\")\n",
    "tupla = (1,2,3, (4,5,6))\n",
    "print (tupla, type(tupla))\n",
    "anidado = tupla[3]\n",
    "print (anidado, type(anidado))\n",
    "valor_anidado_0 = anidado[0]\n",
    "print (valor_anidado_0, type(valor_anidado_0))\n",
    "valor_anidado_1 = tupla[3][1]\n",
    "print (valor_anidado_1, type(valor_anidado_1))"
   ]
  }
 ],
 "metadata": {
  "language_info": {
   "name": "python"
  }
 },
 "nbformat": 4,
 "nbformat_minor": 5
}
