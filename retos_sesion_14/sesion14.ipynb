{
 "cells": [
  {
   "cell_type": "markdown",
   "id": "bf5b3b90",
   "metadata": {},
   "source": [
    "# Funciones"
   ]
  },
  {
   "cell_type": "markdown",
   "id": "f6b534db",
   "metadata": {},
   "source": [
    "## Funciones sin argumentos y sin retorno"
   ]
  },
  {
   "cell_type": "markdown",
   "id": "9dd3e741",
   "metadata": {},
   "source": [
    "def funcion():\n",
    "    print (\"Bloque de código\")\n",
    " \n",
    "funcion()"
   ]
  },
  {
   "cell_type": "code",
   "execution_count": null,
   "id": "1702d496",
   "metadata": {},
   "outputs": [],
   "source": [
    "print (\"Ejemplo 1\")\n",
    "print (\"1. Definir función\")\n",
    "def imprimir_pares():\n",
    "    pares = [i for i in range(0, 21, 2)]\n",
    "    print (pares)\n",
    " \n",
    "print (\"2. Llamar función\")\n",
    "imprimir_pares()\n",
    "imprimir_pares()"
   ]
  },
  {
   "cell_type": "markdown",
   "id": "7728efbe",
   "metadata": {},
   "source": [
    "## Funciones sin argumentos y con un retorno"
   ]
  },
  {
   "cell_type": "markdown",
   "id": "84702545",
   "metadata": {},
   "source": [
    "def funcion():\n",
    "    return \"Bloque de código\"\n",
    " \n",
    "resultado = funcion()\n",
    "print (resultado)"
   ]
  },
  {
   "cell_type": "code",
   "execution_count": null,
   "id": "007e1562",
   "metadata": {},
   "outputs": [],
   "source": [
    "print (\"Ejemplo 2\")\n",
    "print (\"1. Definir función\")\n",
    "def saludo():\n",
    "    saludos = {\"Hola\", \"Hello\", \"Bonjour\", \"Ciao\"}\n",
    "    return saludos.pop()\n",
    " \n",
    "print (\"2. Llamar función\")\n",
    "resultado = saludo()\n",
    "print (resultado)"
   ]
  },
  {
   "cell_type": "markdown",
   "id": "c97888db",
   "metadata": {},
   "source": [
    "## Funciones sin argumentos y con múltiple retorno"
   ]
  },
  {
   "cell_type": "markdown",
   "id": "3fc4fcdc",
   "metadata": {},
   "source": [
    "def funcion():\n",
    "    return \"Bloque\", \"de\", \"código\"\n",
    "\n",
    "resultado = funcion()\n",
    "print (resultado)"
   ]
  },
  {
   "cell_type": "code",
   "execution_count": null,
   "id": "0e835033",
   "metadata": {},
   "outputs": [],
   "source": [
    "print (\"Ejemplo 3\")\n",
    "print (\"1. Definir función\")\n",
    "def saludo():\n",
    "    saludos_es = {\"Hola\", \"Holi\", \"Buenos días\"}\n",
    "    saludos_en = {\"Hello\", \"Hi\", \"Good morning\"}\n",
    "    return saludos_es.pop(), saludos_en.pop()\n",
    " \n",
    "print (\"2. Llamar función\")\n",
    "resultado = saludo()\n",
    "print (resultado)"
   ]
  },
  {
   "cell_type": "markdown",
   "id": "075f80c4",
   "metadata": {},
   "source": [
    "## Funciones con un argumento y sin retorno"
   ]
  },
  {
   "cell_type": "markdown",
   "id": "f1e19c44",
   "metadata": {},
   "source": [
    "def funcion(parametro):\n",
    "    print (parametro)\n",
    "\n",
    "funcion(\"Bloque de código\") #1 Argumento"
   ]
  },
  {
   "cell_type": "code",
   "execution_count": null,
   "id": "201d0c98",
   "metadata": {},
   "outputs": [],
   "source": [
    "print (\"Ejemplo 4\")\n",
    "print (\"1. Definir función\")\n",
    "def cuadrado(numero):\n",
    "    print (numero**2)\n",
    " \n",
    "print (\"2. Llamar función\")\n",
    "cuadrado(5)\n",
    "cuadrado(10)"
   ]
  },
  {
   "cell_type": "markdown",
   "id": "10f9fcbf",
   "metadata": {},
   "source": [
    "## Funciones con múltiples argumentos y sin retorno"
   ]
  },
  {
   "cell_type": "markdown",
   "id": "1a0eedc9",
   "metadata": {},
   "source": [
    "def funcion(param1, param2, ...,  paramN):\n",
    "    print (param1, param2, ..., paramN)\n",
    "\n",
    "funcion(\"Bloque\", \"de\", \"código\")"
   ]
  },
  {
   "cell_type": "code",
   "execution_count": null,
   "id": "cbb4dff6",
   "metadata": {},
   "outputs": [],
   "source": [
    "print (\"Ejemplo 5\")\n",
    "print (\"1. Definir función\")\n",
    "def repetir(cadena, veces):\n",
    "    print (cadena*veces)\n",
    " \n",
    "print (\"2. Llamar función\")\n",
    "repetir(\"✨🎉\", 10)"
   ]
  },
  {
   "cell_type": "markdown",
   "id": "ef09d7d6",
   "metadata": {},
   "source": [
    "## Funciones con múltiples argumentos y con un retorno"
   ]
  },
  {
   "cell_type": "markdown",
   "id": "84b2c7b2",
   "metadata": {},
   "source": [
    "def funcion(param1, param2, paramN):\n",
    "    return param1\n",
    "\n",
    "resultado = funcion(\"Bloque\", \"de\", \"código\")\n",
    "print (resultado)"
   ]
  },
  {
   "cell_type": "code",
   "execution_count": null,
   "id": "94b18fd4",
   "metadata": {},
   "outputs": [],
   "source": [
    "print (\"Ejemplo 6\")\n",
    "print (\"1. Definir función\")\n",
    "def operaciones(numero1, numero2):\n",
    "    suma = numero1 + numero2\n",
    "    resta = numero1 - numero2\n",
    "    multiplicacion = numero1 * numero2\n",
    "    division = numero1 / numero2\n",
    "    return [suma, resta, multiplicacion, division]\n",
    " \n",
    "print (\"2. Llamar función\")\n",
    "resultado = operaciones(10, 5)\n",
    "print (resultado)"
   ]
  },
  {
   "cell_type": "markdown",
   "id": "5343ea6e",
   "metadata": {},
   "source": [
    "## Funciones con múltiples argumentos y con múltiple retorno\n"
   ]
  },
  {
   "cell_type": "markdown",
   "id": "7e105726",
   "metadata": {},
   "source": [
    "def funcion(param1, param2, ..., paramN):\n",
    "    return param1, param2, ..., paramN\n",
    "\n",
    "resultado = funcion(\"Bloque\", \"de\", \"código\")\n",
    "print (resultado)"
   ]
  },
  {
   "cell_type": "code",
   "execution_count": null,
   "id": "e7b4f5ea",
   "metadata": {},
   "outputs": [],
   "source": [
    "print (\"Ejemplo 7\")\n",
    "print (\"1. Definir función\")\n",
    "def operaciones(numero1, numero2):\n",
    "    suma = numero1 + numero2\n",
    "    resta = numero1 - numero2\n",
    "    multiplicacion = numero1 * numero2\n",
    "    division = numero1 / numero2\n",
    "    return suma, resta, multiplicacion, division\n",
    " \n",
    "print (\"2. Llamar función\")\n",
    "suma, resta, multiplicacion, division = operaciones(10, 5)\n",
    "print (suma, resta, multiplicacion, division)"
   ]
  },
  {
   "cell_type": "markdown",
   "id": "c7966ef0",
   "metadata": {},
   "source": [
    "## Variables globales y locales\n"
   ]
  },
  {
   "cell_type": "code",
   "execution_count": null,
   "id": "81ae503d",
   "metadata": {},
   "outputs": [],
   "source": [
    "variable_global = \"Variable global\"\n",
    "\n",
    "def funcion():\n",
    "    variable_local = \"Variable local\"\n",
    "    print (\"✨\",variable_global)\n",
    "    print (\"✨\",variable_local)\n",
    "\n",
    "funcion()\n",
    "print (\"🎈\",variable_global)\n",
    "print (\"🎈\",variable_local)"
   ]
  },
  {
   "cell_type": "code",
   "execution_count": null,
   "id": "8f4038f9",
   "metadata": {},
   "outputs": [],
   "source": [
    "numeros = [10, 5, 20, 15, 25, 30] #Global\n",
    "\n",
    "def mayor_menor(): #No recibe argumentos\n",
    "    mayor = max(numeros) #Local\n",
    "    menor = min(numeros) #Local\n",
    "    return mayor, menor #Devuelve dos valores\n",
    "\n",
    "resultado = mayor_menor()\n",
    "print (resultado)"
   ]
  },
  {
   "cell_type": "markdown",
   "id": "47cde1b9",
   "metadata": {},
   "source": [
    "## Args y Kwargs"
   ]
  },
  {
   "cell_type": "markdown",
   "id": "33a5a6c7",
   "metadata": {},
   "source": [
    "*args es una lista de parámetros sin clave\n",
    "**kwargs es un diccionario de parámetros con clave"
   ]
  },
  {
   "cell_type": "markdown",
   "id": "e78f8781",
   "metadata": {},
   "source": [
    "def funcion(*args):\n",
    "    print (args)\n",
    "    print (type(args))\n",
    "\n",
    "funcion(\"Bloque\", \"de\", \"código\")"
   ]
  },
  {
   "cell_type": "code",
   "execution_count": null,
   "id": "da936429",
   "metadata": {},
   "outputs": [],
   "source": [
    "print (\"Ejemplo 9\")\n",
    "print (\"1. Definir función\")\n",
    "def concatenar(numero, *cadenas):\n",
    "    concatenado = \"\"\n",
    "    for cadena in cadenas:\n",
    "        concatenado += cadena\n",
    "    return concatenado*numero\n",
    " \n",
    "print (\"2. Llamar función\")\n",
    "resultado = concatenar(3, \"🍎\", \"🍌\", \"🍍\")\n",
    "print (resultado)"
   ]
  },
  {
   "cell_type": "markdown",
   "id": "62030b1d",
   "metadata": {},
   "source": [
    "def funcion(**kwargs):\n",
    "    print (kwargs)\n",
    "    print (type(kwargs))\n",
    "\n",
    "funcion(nombre=\"Jhon\", apellido=\"Doe\", genero=\"M\")"
   ]
  },
  {
   "cell_type": "code",
   "execution_count": null,
   "id": "72b05a6b",
   "metadata": {},
   "outputs": [],
   "source": [
    "print (\"Ejemplo 10\")\n",
    "print (\"1. Definir función\")\n",
    "def datos_persona(**datos):\n",
    "    mensaje = \"\"\n",
    "    for clave, valor in datos.items():\n",
    "        mensaje += f\"{str(clave).title()}: {str(valor).upper()}\\n\"\n",
    "    return mensaje\n",
    "print (\"2. Llamar función\")\n",
    "resultado = datos_persona(nombre=\"Jhon\", apellido=\"Doe\", edad=20, boliviano=True)\n",
    "print (resultado)"
   ]
  },
  {
   "cell_type": "markdown",
   "id": "fae9b650",
   "metadata": {},
   "source": [
    "## Documentación de funciones"
   ]
  },
  {
   "cell_type": "code",
   "execution_count": null,
   "id": "003cbd50",
   "metadata": {},
   "outputs": [],
   "source": [
    "def funcion():\n",
    "    \"\"\"\n",
    "    Documentación aquí\n",
    "    \"\"\"\n",
    "    print (\"Bloque de código\")"
   ]
  },
  {
   "cell_type": "code",
   "execution_count": null,
   "id": "c964c45f",
   "metadata": {},
   "outputs": [],
   "source": [
    "print (\"Acceso a la documentación\")\n",
    "def funcion():\n",
    "    \"\"\"\n",
    "    Documentación aquí\n",
    "    \"\"\"\n",
    "    print (\"Bloque de código\")\n",
    "print (funcion.__doc__)\n",
    "print (\"Fin de la ejecución\")"
   ]
  },
  {
   "cell_type": "markdown",
   "id": "053d22aa",
   "metadata": {},
   "source": [
    "## Llamado de funciones dentro de funciones"
   ]
  },
  {
   "cell_type": "markdown",
   "id": "a367686d",
   "metadata": {},
   "source": [
    "print (\"Ejemplo 11\")\n",
    "print (\"1. Definir función Principal\")\n",
    "def principal(numero):\n",
    "    cuadrado = cuadrado_numero(numero)\n",
    "    cubo = cubo_numero(numero)\n",
    "    return cuadrado, cubo\n",
    " \n",
    "print (\"2. Definir función Cuadrado\")\n",
    "def cuadrado_numero(numero):\n",
    "    return numero**2\n",
    " \n",
    "print (\"3. Definir función Cubo\")\n",
    "def cubo_numero(numero):\n",
    "    return numero**3\n",
    " \n",
    "print (\"4. Llamar función Principal\")\n",
    "numero = 5\n",
    "resultado = principal(numero)\n",
    "print (numero, resultado)"
   ]
  },
  {
   "cell_type": "markdown",
   "id": "7485f800",
   "metadata": {},
   "source": [
    "## Funciones Recursivas"
   ]
  },
  {
   "cell_type": "markdown",
   "id": "18bc1ff4",
   "metadata": {},
   "source": [
    "def funcion_recursiva(valor):\n",
    "    if caso_base:\n",
    "        return valor\n",
    "    else:\n",
    "        return funcion_recursiva(valor)"
   ]
  },
  {
   "cell_type": "code",
   "execution_count": null,
   "id": "0c72821f",
   "metadata": {},
   "outputs": [],
   "source": [
    "print (\"Ejemplo 12\")\n",
    "print (\"1. Definir función\")\n",
    "def numero_par(numero):\n",
    "    if numero == 0:\n",
    "        return 0\n",
    "    else:\n",
    "        return numero_par(numero-1) + 2\n",
    " \n",
    "print (\"2. Llamar función\")\n",
    "resultado = numero_par(10)\n",
    "print (resultado)"
   ]
  },
  {
   "cell_type": "markdown",
   "id": "1c4930ce",
   "metadata": {},
   "source": [
    "## Funciones anónimas o lambda\n"
   ]
  },
  {
   "cell_type": "markdown",
   "id": "fff67d82",
   "metadata": {},
   "source": [
    "Estructura de una función anónima\n",
    "\n",
    "lambda argumento: expresión"
   ]
  },
  {
   "cell_type": "code",
   "execution_count": null,
   "id": "ceea2d73",
   "metadata": {},
   "outputs": [],
   "source": [
    "print (\"Ejemplo 13\")\n",
    "cuadrado = lambda numero: numero**2\n",
    "resultado = cuadrado(5)\n",
    "print (resultado)\n",
    "resultado = cuadrado(10)\n",
    "print (resultado)"
   ]
  }
 ],
 "metadata": {
  "language_info": {
   "name": "python"
  }
 },
 "nbformat": 4,
 "nbformat_minor": 5
}
