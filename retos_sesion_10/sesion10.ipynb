{
 "cells": [
  {
   "cell_type": "markdown",
   "id": "95a155d0",
   "metadata": {},
   "source": [
    "# Estructura de datos Conjuntos "
   ]
  },
  {
   "cell_type": "markdown",
   "id": "45be48dd",
   "metadata": {},
   "source": [
    "## Son mutables"
   ]
  },
  {
   "cell_type": "markdown",
   "id": "18f596e0",
   "metadata": {},
   "source": [
    "conjunto = {'🍕','🍔','🍟','🌭'}\n",
    "print(conjunto) # {'🍔', '🌭', '🍕', '🍟'}\n",
    "conjunto.add('🥗')\n",
    "print(conjunto)  # {'🍔', '🍕', '🥗', '🍟', '🌭'}\n"
   ]
  },
  {
   "cell_type": "markdown",
   "id": "d3a7913c",
   "metadata": {},
   "source": [
    "## Son no ordenados, no indexados, no repetidos"
   ]
  },
  {
   "cell_type": "code",
   "execution_count": null,
   "id": "d060cb32",
   "metadata": {},
   "outputs": [],
   "source": [
    "conjunto = {'🍕','🍔','🍟','🌭'}\n",
    "print(conjunto[0]) # TypeError: 'set' object is not subscriptable"
   ]
  },
  {
   "cell_type": "markdown",
   "id": "34def1a7",
   "metadata": {},
   "source": [
    "## Conjunto de enteros y cadenas"
   ]
  },
  {
   "cell_type": "code",
   "execution_count": null,
   "id": "8a82ea35",
   "metadata": {},
   "outputs": [],
   "source": [
    "print (\"Conjunto de enteros\")\n",
    "conjunto = {1, 2, 3, 4, 5}\n",
    "print(conjunto) \n",
    "print(type(conjunto))\n",
    "\n",
    "print (\"Conjunto de cadenas\")\n",
    "conjunto = {'🍕','🍔','🍟','🌭'}\n",
    "print(conjunto)\n",
    "print(type(conjunto))\n",
    "\n",
    "#Conjunto vacío\n",
    "print (\"Conjunto vacío\")\n",
    "conjunto = set()\n",
    "print(conjunto)\n",
    "print(type(conjunto))"
   ]
  },
  {
   "cell_type": "markdown",
   "id": "d03e25a1",
   "metadata": {},
   "source": [
    "## Conjunto por comprensión"
   ]
  },
  {
   "cell_type": "code",
   "execution_count": null,
   "id": "d725a1f1",
   "metadata": {},
   "outputs": [],
   "source": [
    "print (\"Conjunto por comprensión\")\n",
    "conjunto = {x for x in '🍕🍔🍟🍕🍔🍟🍔🍟'}\n",
    "print(conjunto)\n",
    "print(type(conjunto))"
   ]
  },
  {
   "cell_type": "markdown",
   "id": "c8d112c4",
   "metadata": {},
   "source": [
    "## Metodos de adicion\n",
    "add\n",
    "Update"
   ]
  },
  {
   "cell_type": "code",
   "execution_count": null,
   "id": "c1b080f5",
   "metadata": {},
   "outputs": [],
   "source": [
    "print (\"Método add()\")\n",
    "conjunto = {'🍕','🍔','🍟','🌭'}\n",
    "print (conjunto)\n",
    "conjunto.add('🥗')\n",
    "print(conjunto) "
   ]
  },
  {
   "cell_type": "code",
   "execution_count": null,
   "id": "f66fd52d",
   "metadata": {},
   "outputs": [],
   "source": [
    "print (\"Método update()\")\n",
    "conjunto = {'🍕','🍔','🍟','🌭'}\n",
    "print (conjunto)\n",
    "conjunto.update(['🥤','🍦'])\n",
    "print(conjunto) \n",
    "conjunto.update('🍩🍪')\n",
    "print(conjunto) \n",
    "conjunto.update(('🍫','🍬'))\n",
    "print(conjunto)\n",
    "conjunto.update({'🍭','🍮'})\n",
    "print(conjunto)"
   ]
  },
  {
   "cell_type": "markdown",
   "id": "8a3b7454",
   "metadata": {},
   "source": [
    "## Metodos de eliminacion\n",
    "remove()\n",
    "discard()\n",
    "pop()\n",
    "clear()"
   ]
  },
  {
   "cell_type": "code",
   "execution_count": null,
   "id": "15185c49",
   "metadata": {},
   "outputs": [],
   "source": [
    "print (\"Método remove()\")\n",
    "conjunto = {'🍕','🍔','🍟','🌭'} \n",
    "print (conjunto)\n",
    "conjunto.remove('🍔')\n",
    "print(conjunto)"
   ]
  },
  {
   "cell_type": "code",
   "execution_count": null,
   "id": "43260600",
   "metadata": {},
   "outputs": [],
   "source": [
    "print (\"Método discard()\")\n",
    "conjunto = {'🍕','🍔','🍟','🌭'}\n",
    "print (conjunto)\n",
    "conjunto.discard('🍔')\n",
    "print(conjunto)\n",
    "conjunto.discard('🍔')\n",
    "print(conjunto)"
   ]
  },
  {
   "cell_type": "code",
   "execution_count": null,
   "id": "236c2887",
   "metadata": {},
   "outputs": [],
   "source": [
    "print (\"Método pop()\")\n",
    "conjunto = {'🍕','🍔','🍟','🌭', '🥤','🍦'}\n",
    "print (conjunto)\n",
    "print(conjunto.pop())\n",
    "print(conjunto)\n",
    "print(conjunto.pop())\n",
    "print(conjunto)"
   ]
  },
  {
   "cell_type": "code",
   "execution_count": null,
   "id": "3d1d8b81",
   "metadata": {},
   "outputs": [],
   "source": [
    "print (\"Método clear()\")\n",
    "conjunto = {'🍕','🍔','🍟','🌭'}\n",
    "print (conjunto)\n",
    "conjunto.clear()\n",
    "print(conjunto)"
   ]
  },
  {
   "cell_type": "markdown",
   "id": "a60b9d81",
   "metadata": {},
   "source": [
    "## Métodos de operaciones con conjuntos\n",
    "union() : Unión de conjuntos\n",
    "intersection() : Intersección de conjuntos\n",
    "difference() : Diferencia de conjuntos\n",
    "symmetric_difference() : Diferencia simétrica de conjuntos"
   ]
  },
  {
   "cell_type": "code",
   "execution_count": null,
   "id": "b9aade44",
   "metadata": {},
   "outputs": [],
   "source": [
    "print (\"Método union()\")\n",
    "conjunto1 = {'🍔','🍟', '🥤'}\n",
    "conjunto2 = {'🍕','🍨','🥤'}\n",
    "print (conjunto1, conjunto2)\n",
    "union = conjunto1.union(conjunto2)\n",
    "print(union)"
   ]
  },
  {
   "cell_type": "code",
   "execution_count": null,
   "id": "a4a614ce",
   "metadata": {},
   "outputs": [],
   "source": [
    "print (\"Método intersection()\")\n",
    "conjunto1 = {'🍔','🍟', '🥤'}\n",
    "conjunto2 = {'🍕','🍨','🥤'}\n",
    "print (conjunto1, conjunto2)\n",
    "interseccion = conjunto1.intersection(conjunto2)\n",
    "print(interseccion)"
   ]
  },
  {
   "cell_type": "code",
   "execution_count": null,
   "id": "cbe466c5",
   "metadata": {},
   "outputs": [],
   "source": [
    "print (\"Método difference()\")\n",
    "conjunto1 = {'🍔','🍟', '🥤'}\n",
    "conjunto2 = {'🍕','🍨','🥤'}\n",
    "print (\"1:\",conjunto1, \"2:\",conjunto2)\n",
    "diferencia = conjunto1.difference(conjunto2)\n",
    "print(\"1 y 2:\",diferencia)\n",
    "diferencia = conjunto2.difference(conjunto1)\n",
    "print(\"2 y 1:\",diferencia)"
   ]
  },
  {
   "cell_type": "code",
   "execution_count": null,
   "id": "56d11777",
   "metadata": {},
   "outputs": [],
   "source": [
    "print (\"Método symmetric_difference()\")\n",
    "conjunto1 = {'🍔','🍟', '🥤'}\n",
    "conjunto2 = {'🍕','🍨','🥤'}\n",
    "print (conjunto1, conjunto2)\n",
    "diferencia_simetrica = conjunto1.symmetric_difference(conjunto2)\n",
    "print(diferencia_simetrica)"
   ]
  },
  {
   "cell_type": "markdown",
   "id": "6ace3266",
   "metadata": {},
   "source": [
    "## Métodos de asignación con operaciones\n",
    "\n",
    "intersection_update() : Intersección\n",
    "difference_update() : Diferencia\n",
    "symmetric_difference_update() : Diferencia simétrica"
   ]
  },
  {
   "cell_type": "code",
   "execution_count": null,
   "id": "92da9702",
   "metadata": {},
   "outputs": [],
   "source": [
    "print (\"Método intersection_update()\")\n",
    "conjunto1 = {'🍔','🍟', '🥤'}\n",
    "conjunto2 = {'🍕','🍨','🥤'}\n",
    "print (conjunto1, conjunto2)\n",
    "conjunto1.intersection_update(conjunto2)\n",
    "print(conjunto1)"
   ]
  },
  {
   "cell_type": "code",
   "execution_count": null,
   "id": "186984ed",
   "metadata": {},
   "outputs": [],
   "source": [
    "print (\"Método difference_update()\")\n",
    "conjunto1 = {'🍔','🍟', '🥤'}\n",
    "conjunto2 = {'🍕','🍨','🥤'}\n",
    "print (\"1:\",conjunto1, \"2:\",conjunto2)\n",
    "conjunto1.difference_update(conjunto2)\n",
    "print (\"1:\",conjunto1, \"2:\",conjunto2)\n"
   ]
  },
  {
   "cell_type": "code",
   "execution_count": null,
   "id": "2af00e5e",
   "metadata": {},
   "outputs": [],
   "source": [
    "print (\"Método symmetric_difference_update()\")\n",
    "conjunto1 = {'🍔','🍟', '🥤'}\n",
    "conjunto2 = {'🍕','🍨','🥤'}\n",
    "print (conjunto1, conjunto2)\n",
    "conjunto1.symmetric_difference_update(conjunto2)\n",
    "print(conjunto1)\n"
   ]
  },
  {
   "cell_type": "markdown",
   "id": "465e6387",
   "metadata": {},
   "source": [
    "## Métodos de búsqueda\n",
    "\n",
    "issubset() : Subconjunto\n",
    "issuperset() : Superconjunto\n",
    "isdisjoint() : Disjunto"
   ]
  },
  {
   "cell_type": "code",
   "execution_count": null,
   "id": "484528be",
   "metadata": {},
   "outputs": [],
   "source": [
    "print (\"Método issubset()\")\n",
    "conjunto1 = {'🍔','🍟', '🥤'}\n",
    "conjunto2 = {'🍕','🍨','🥤'}\n",
    "conjunto3 = {'🍔','🍟'}\n",
    "print (conjunto1, conjunto2,conjunto3)\n",
    "# ¿El conjunto1 es subconjunto del conjunto2?\n",
    "print(conjunto1.issubset(conjunto2))\n",
    "# ¿El conjunto3 es subconjunto del conjunto1?\n",
    "print(conjunto3.issubset(conjunto1))"
   ]
  },
  {
   "cell_type": "code",
   "execution_count": null,
   "id": "befc7fe2",
   "metadata": {},
   "outputs": [],
   "source": [
    "print (\"Método issuperset()\")\n",
    "conjunto1 = {'🍔','🍟', '🥤'}\n",
    "conjunto2 = {'🍕','🍨','🥤'}\n",
    "conjunto3 = {'🍔','🍟'}\n",
    "print (conjunto1, conjunto2,conjunto3)\n",
    "# ¿El conjunto1 es superconjunto del conjunto2?\n",
    "print(conjunto1.issuperset(conjunto2)) # C1 contiene a C2?\n",
    "# ¿El conjunto1 es superconjunto del conjunto2?\n",
    "print(conjunto1.issuperset(conjunto3)) # C1 contiene a C3?"
   ]
  },
  {
   "cell_type": "code",
   "execution_count": null,
   "id": "1911817f",
   "metadata": {},
   "outputs": [
    {
     "ename": "",
     "evalue": "",
     "output_type": "error",
     "traceback": [
      "\u001b[1;31mRunning cells with 'Python 3.13.3' requires the ipykernel package.\n",
      "\u001b[1;31m<a href='command:jupyter.createPythonEnvAndSelectController'>Create a Python Environment</a> with the required packages.\n",
      "\u001b[1;31mOr install 'ipykernel' using the command: 'c:/Users/Jhoseph/AppData/Local/Programs/Python/Python313/python.exe -m pip install ipykernel -U --user --force-reinstall'"
     ]
    }
   ],
   "source": [
    "print (\"Método isdisjoint()\")\n",
    "conjunto1 = {'🍔','🍟', '🥤'}\n",
    "conjunto2 = {'🍕','🍨'}\n",
    "conjunto3 = {'🍔','🍟'}\n",
    "print (conjunto1, conjunto2,conjunto3)\n",
    "# ¿El conjunto1 no tiene elementos en común con el conjunto2?\n",
    "print(conjunto1.isdisjoint(conjunto2))\n",
    "# ¿El conjunto1 no tiene elementos en común con el conjunto3?\n",
    "print(conjunto1.isdisjoint(conjunto3))"
   ]
  },
  {
   "cell_type": "markdown",
   "id": "446befac",
   "metadata": {},
   "source": [
    "## Conjuntos anidados"
   ]
  },
  {
   "cell_type": "code",
   "execution_count": null,
   "id": "305520be",
   "metadata": {},
   "outputs": [],
   "source": [
    "print (\"Conjunto de conjuntos\")\n",
    "conjunto = {frozenset({'🍅','🍓','🍎'}), frozenset({'🍈','🍐','🍏'})}\n",
    "print(conjunto)\n",
    "print(type(conjunto))"
   ]
  }
 ],
 "metadata": {
  "kernelspec": {
   "display_name": "Python 3",
   "language": "python",
   "name": "python3"
  },
  "language_info": {
   "name": "python",
   "version": "3.13.3"
  }
 },
 "nbformat": 4,
 "nbformat_minor": 5
}
