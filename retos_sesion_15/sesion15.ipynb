{
 "cells": [
  {
   "cell_type": "markdown",
   "id": "173a2758",
   "metadata": {},
   "source": [
    "# Errores y Excepciones"
   ]
  },
  {
   "cell_type": "markdown",
   "id": "9cce0129",
   "metadata": {},
   "source": [
    "## Estructura de una excepción Simple"
   ]
  },
  {
   "cell_type": "markdown",
   "id": "bf73016e",
   "metadata": {},
   "source": [
    "try:\n",
    "    # Código que puede lanzar una excepción\n",
    "except Exception as e:\n",
    "    # Código que se ejecuta si se produce una excepción\n",
    "# Código que se ejecuta siempre fuera del bloque try-except\n",
    "try: Bloque de código que puede lanzar una excepción posee indentación\n",
    "except: Bloque de código que se ejecuta si se produce una excepción\n",
    "Exception as e: Captura la excepción y la almacena en la variable e\n",
    "Ejemplo 1, División por cero\n"
   ]
  },
  {
   "cell_type": "code",
   "execution_count": null,
   "id": "ad6351ac",
   "metadata": {},
   "outputs": [],
   "source": [
    "print (\"Inicio Ejemplo 1\")\n",
    "x = 1 / 0\n",
    "print (x)\n",
    "print (\"Fin Ejemplo 1\")"
   ]
  },
  {
   "cell_type": "code",
   "execution_count": null,
   "id": "961662ed",
   "metadata": {},
   "outputs": [],
   "source": [
    "print (\"Inicio Ejemplo 1\")\n",
    "try:\n",
    "    x = 1 / 0\n",
    "    print (x)\n",
    "except Exception as e:\n",
    "    print(\"💀 Error:\", e, type(e))\n",
    "print (\"Fin Ejemplo 1\")"
   ]
  },
  {
   "cell_type": "markdown",
   "id": "a4c663f1",
   "metadata": {},
   "source": [
    "## Excepciones múltiples"
   ]
  },
  {
   "cell_type": "markdown",
   "id": "68e36340",
   "metadata": {},
   "source": [
    "Se debe poner un bloque except el tipo de excepción que se desea capturar con jerarquía de arriba hacía abajo\n",
    "\n",
    "try:\n",
    "    # Código que puede lanzar una excepción\n",
    "except ZeroDivisionError as e:\n",
    "    # Código si se produce una excepción de división por cero\n",
    "except Exception as e:\n",
    "    # Código si se produce una excepción genérica"
   ]
  },
  {
   "cell_type": "code",
   "execution_count": null,
   "id": "e7d3a254",
   "metadata": {},
   "outputs": [],
   "source": [
    "print (\"Inicio Ejemplo 2\")\n",
    "divisor = 0\n",
    "try:\n",
    "    x = 1 / divisor\n",
    "    print (x)\n",
    "except ZeroDivisionError as e:\n",
    "    print(\"0️⃣ Error:\", e, type(e))\n",
    "except Exception as e:\n",
    "    print(\"💀 Error:\", e, type(e))\n",
    "print (\"Fin Ejemplo 2\")"
   ]
  },
  {
   "cell_type": "code",
   "execution_count": null,
   "id": "d800902c",
   "metadata": {},
   "outputs": [],
   "source": [
    "calificaciones = [20,40,80,\"A\"]\n",
    "suma = 0\n",
    "try:\n",
    "    for i in range(len(calificaciones)+1):\n",
    "        suma += calificaciones[i] \n",
    "    promedio = suma / len(calificaciones)\n",
    "    print(\"Promedio:\", promedio)\n",
    "except ZeroDivisionError as e:\n",
    "    print(\"0️⃣ Error:\", e, type(e))\n",
    "except TypeError as e:\n",
    "    print(\"🎭 Error:\", e, type(e))\n",
    "except Exception as e:\n",
    "    print(\"💀 Error:\", e, type(e))"
   ]
  },
  {
   "cell_type": "markdown",
   "id": "3ecfbad6",
   "metadata": {},
   "source": [
    "## Bloque else\n",
    "Se puede agregar un bloque else que se ejecuta si no se produce ninguna excepción\n",
    "\n",
    "Se debe poner después de todos los bloques except\n",
    "\n",
    "Lo utilizamos validar la entrada de datos o para mostrar un mensaje de éxito\n"
   ]
  },
  {
   "cell_type": "code",
   "execution_count": null,
   "id": "85fe75b3",
   "metadata": {},
   "outputs": [
    {
     "ename": "",
     "evalue": "",
     "output_type": "error",
     "traceback": [
      "\u001b[1;31mRunning cells with 'Python 3.13.3' requires the ipykernel package.\n",
      "\u001b[1;31m<a href='command:jupyter.createPythonEnvAndSelectController'>Create a Python Environment</a> with the required packages.\n",
      "\u001b[1;31mOr install 'ipykernel' using the command: 'c:/Users/Jhoseph/AppData/Local/Programs/Python/Python313/python.exe -m pip install ipykernel -U --user --force-reinstall'"
     ]
    }
   ],
   "source": [
    "print (\"Inicio Ejemplo 4\")\n",
    "calificaciones = [20,40,80]\n",
    "suma = 0\n",
    "try:\n",
    "    for i in range(len(calificaciones)):\n",
    "        suma += calificaciones[i]\n",
    "    promedio = suma / len(calificaciones)\n",
    "    print(\"Promedio:\", promedio)\n",
    "except Exception as e:\n",
    "    print(\"💀 Error:\", e, type(e))\n",
    "else:\n",
    "    print (\"🎉 Sin errores\")\n",
    "print (\"Fin Ejemplo 4\")"
   ]
  },
  {
   "cell_type": "markdown",
   "id": "59ec3a45",
   "metadata": {},
   "source": [
    "## Bloque finally\n",
    "Se puede agregar un bloque finally que se ejecuta siempre, independientemente de si se produce una excepción\n",
    "\n",
    "Se debe poner después de todos los bloques except y else"
   ]
  },
  {
   "cell_type": "code",
   "execution_count": null,
   "id": "f63eb052",
   "metadata": {},
   "outputs": [],
   "source": [
    "print (\"Inicio Ejemplo 5\")\n",
    "try:\n",
    "    print(\"🔗 Ping...\")\n",
    "except Exception as e:\n",
    "    print(\"💀 Error:\", e)\n",
    "else:\n",
    "    print(\"🎉 Ping Exitoso\")\n",
    "finally:\n",
    "    print(\"🔌 Cerrando conexión\")"
   ]
  },
  {
   "cell_type": "markdown",
   "id": "2b46eee0",
   "metadata": {},
   "source": [
    "## Raise"
   ]
  },
  {
   "cell_type": "markdown",
   "id": "a4c3d1ff",
   "metadata": {},
   "source": [
    "Estructura de raise\n",
    "\n",
    "raise Exception(\"Mensaje de error\")\n",
    "\n",
    "raise es una palabra reservada de Python\n",
    "Exception es el tipo de excepción que se desea generar\n",
    "\"Mensaje de error\" es el mensaje que se mostrará"
   ]
  },
  {
   "cell_type": "code",
   "execution_count": null,
   "id": "fffd7bdc",
   "metadata": {},
   "outputs": [],
   "source": [
    "print (\"Inicio Ejemplo 6\")\n",
    "try:\n",
    "    print(\"🔗 Ping...\")\n",
    "    raise Exception(\"Error de conexión\") #Excepción genérica\n",
    "except Exception as e: # Captura cualquier excepción\n",
    "    print(\"💀 Error:\", e)\n",
    "else:\n",
    "    print(\"🎉 Ping Exitoso\")\n",
    "finally:\n",
    "    print(\"🔌 Cerrando conexión\")"
   ]
  },
  {
   "cell_type": "markdown",
   "id": "888d86ce",
   "metadata": {},
   "source": [
    "## Pass\n",
    "pass es una palabra reservada de Python que no hace nada"
   ]
  },
  {
   "cell_type": "code",
   "execution_count": null,
   "id": "2da24d01",
   "metadata": {},
   "outputs": [],
   "source": [
    "print(\"Inicio Ejemplo 7\")\n",
    "def funcion():\n",
    "    pass\n",
    "\n",
    "funcion()\n",
    "print(\"Fin Ejemplo 7\")"
   ]
  },
  {
   "cell_type": "markdown",
   "id": "af19c935",
   "metadata": {},
   "source": [
    "## Excepciones personalizadas\n",
    "Se pueden crear excepciones personalizadas\n",
    "\n",
    "Nos permite crear excepciones específicas para nuestro programa"
   ]
  },
  {
   "cell_type": "code",
   "execution_count": null,
   "id": "ac30e82e",
   "metadata": {},
   "outputs": [],
   "source": [
    "print(\"Inicio Ejemplo 8\")\n",
    "class GusanoError(Exception):\n",
    "    pass\n",
    " \n",
    "frutero = ['🍎', '🍌', '🍐', '🐛', '🍇']\n",
    "for fruta in frutero:\n",
    "    try:\n",
    "        if fruta == '🐛':\n",
    "            raise GusanoError(\"😱 Ewww!\")\n",
    "        print(fruta)\n",
    "    except GusanoError as e:\n",
    "        print(\"🐛 Error:\", e)\n",
    "    except Exception as e:\n",
    "        print(\"💀 Error:\", e)\n",
    "print(\"Fin Ejemplo 8\")"
   ]
  },
  {
   "cell_type": "markdown",
   "id": "52b921c1",
   "metadata": {},
   "source": []
  }
 ],
 "metadata": {
  "kernelspec": {
   "display_name": "Python 3",
   "language": "python",
   "name": "python3"
  },
  "language_info": {
   "name": "python",
   "version": "3.13.3"
  }
 },
 "nbformat": 4,
 "nbformat_minor": 5
}
