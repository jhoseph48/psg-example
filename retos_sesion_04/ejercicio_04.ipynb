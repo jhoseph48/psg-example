{
 "cells": [
  {
   "cell_type": "markdown",
   "id": "18791400",
   "metadata": {},
   "source": [
    "# Piedra papel o tijera\n",
    "Este es el juego clasico representado en markdown"
   ]
  },
  {
   "cell_type": "markdown",
   "id": "2a529e71",
   "metadata": {},
   "source": [
    "# Reglas Básicas del Juego Piedra, Papel o Tijera\n",
    "\n",
    "Este documento describe las reglas fundamentales del popular juego de manos Piedra, Papel o Tijera.\n",
    "\n",
    "## Participantes\n",
    "\n",
    "El juego se juega entre **dos** personas.\n",
    "\n",
    "## Elementos del Juego\n",
    "\n",
    "Cada jugador elige simultáneamente una de las siguientes tres opciones:\n",
    "\n",
    "* **Piedra**\n",
    "* **Papel**\n",
    "* **Tijera**\n",
    "\n",
    "## Cómo se Determina el Ganador de una Ronda\n",
    "\n",
    "La victoria en cada ronda se decide por las siguientes reglas:\n",
    "\n",
    "* **Piedra** vence a **Tijera** (la piedra rompe la tijera).\n",
    "* **Papel** vence a **Piedra** (el papel envuelve la piedra).\n",
    "* **Tijera** vence a **Papel** (la tijera corta el papel).\n",
    "\n",
    "## Empate\n",
    "\n",
    "Si ambos jugadores eligen la **misma** opción al mismo tiempo, la ronda resulta en un **empate**.\n",
    "\n",
    "## Ganador del Juego\n",
    "\n",
    "El juego puede jugarse de diferentes maneras para determinar un ganador general:\n",
    "\n",
    "* **Una sola ronda:** El jugador que gana la única ronda es el ganador.\n",
    "* **Mejor de N rondas:** Los jugadores juegan un número predeterminado de rondas (por ejemplo, mejor de tres o mejor de cinco). El jugador que gana la mayoría de las rondas es el ganador del juego.\n"
   ]
  },
  {
   "cell_type": "code",
   "execution_count": null,
   "id": "1e20ca7b",
   "metadata": {
    "vscode": {
     "languageId": "plaintext"
    }
   },
   "outputs": [],
   "source": [
    "print(\"*****\")\n",
    "print(\"*****\")\n",
    "print(\"*****\")\n",
    "print(\"*****\")\n",
    "print(\"*****\")\n",
    "\n",
    "print(\"\\n***\")\n",
    "print(\"***\")\n",
    "print(\"***\")\n",
    "\n",
    "print(\"\\n*\")\n",
    "print(\"*\")\n",
    "print(\"*\")\n",
    "print(\"*\")\n",
    "print(\"*\")"
   ]
  },
  {
   "cell_type": "markdown",
   "id": "6a95e08e",
   "metadata": {},
   "source": [
    "# Piedra, Papel o Tijera: Descripción de los Elementos\n",
    "\n",
    "A continuación, se presenta una breve descripción de cada uno de los elementos fundamentales del juego Piedra, Papel o Tijera:\n",
    "\n",
    "## Piedra\n",
    "\n",
    "La **piedra** es representada típicamente por un puño cerrado. Es considerada un elemento **fuerte** y **sólido**. En el juego, la piedra tiene la capacidad de **romper** la tijera, lo que la convierte en el elemento ganador contra ella. Sin embargo, la piedra es **envuelta** y, por lo tanto, derrotada por el papel.\n",
    "\n",
    "## Papel\n",
    "\n",
    "El **papel** se representa generalmente por una mano extendida y plana. Simboliza la **ligereza** y la capacidad de **cubrir**. En el juego, el papel tiene la ventaja sobre la piedra, ya que puede **envolverla**, resultando en una victoria. No obstante, el papel es **cortado** y, por ende, pierde contra la tijera.\n",
    "\n",
    "## Tijera\n",
    "\n",
    "La **tijera** se representa comúnmente por la mano con los dedos índice y medio extendidos, imitando las hojas de unas tijeras. Representa la capacidad de **cortar** y la **agudeza**. Dentro del juego, la tijera"
   ]
  },
  {
   "cell_type": "code",
   "execution_count": null,
   "id": "b44a78a0",
   "metadata": {
    "vscode": {
     "languageId": "plaintext"
    }
   },
   "outputs": [],
   "source": [
    "print(\"Piedra:\")\n",
    "print(\" OOO \")\n",
    "print(\"O   O\")\n",
    "print(\"O   O\")\n",
    "print(\" OOO \")\n",
    "\n",
    "print(\"\\nPapel:\")\n",
    "print(\"-------\")\n",
    "print(\"|     |\")\n",
    "print(\"|     |\")\n",
    "print(\"|     |\")\n",
    "print(\"-------\")\n",
    "\n",
    "print(\"\\nTijera:\")\n",
    "print(\" \\\\ / \")\n",
    "print(\"  X  \")\n",
    "print(\" / \\\\ \")\n",
    "print(\"-----\")"
   ]
  }
 ],
 "metadata": {
  "language_info": {
   "name": "python"
  }
 },
 "nbformat": 4,
 "nbformat_minor": 5
}
