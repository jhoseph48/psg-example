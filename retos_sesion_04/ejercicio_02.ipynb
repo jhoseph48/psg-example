{
 "cells": [
  {
   "cell_type": "markdown",
   "id": "cf4d2cfb",
   "metadata": {},
   "source": [
    " (()) (())\n",
    "====/\\=====\n",
    "   ****"
   ]
  },
  {
   "cell_type": "markdown",
   "id": "c1cadbf1",
   "metadata": {},
   "source": [
    "# Este es el ejercicio 2 crear una imagen con los simbolos"
   ]
  }
 ],
 "metadata": {
  "language_info": {
   "name": "python"
  }
 },
 "nbformat": 4,
 "nbformat_minor": 5
}
